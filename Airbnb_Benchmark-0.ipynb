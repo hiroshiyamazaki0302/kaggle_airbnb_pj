{
 "cells": [
  {
   "cell_type": "markdown",
   "metadata": {},
   "source": [
    "# AirBnB BenchMark Code\n",
    "https://www.kaggle.com/c/airbnb-recruiting-new-user-bookings"
   ]
  },
  {
   "cell_type": "code",
   "execution_count": null,
   "metadata": {},
   "outputs": [],
   "source": [
    "import pandas as pd\n",
    "import numpy as np\n",
    "from sklearn.ensemble import RandomForestClassifier\n",
    "from sklearn.cross_validation import KFold"
   ]
  },
  {
   "cell_type": "code",
   "execution_count": null,
   "metadata": {},
   "outputs": [],
   "source": [
    "#データの読み込み\n",
    "train=pd.read_csv(\"../airbnb_data/train_users_2.csv\")\n",
    "test=pd.read_csv(\"../airbnb_data/test_users.csv\")"
   ]
  },
  {
   "cell_type": "code",
   "execution_count": null,
   "metadata": {},
   "outputs": [],
   "source": [
    "train.shape"
   ]
  },
  {
   "cell_type": "code",
   "execution_count": null,
   "metadata": {
    "collapsed": true
   },
   "outputs": [],
   "source": [
    "#trainとtestを縦に結合\n",
    "test[\"country_destination\"]=np.nan\n",
    "whole=pd.concat([train,test],axis=0)"
   ]
  },
  {
   "cell_type": "code",
   "execution_count": null,
   "metadata": {},
   "outputs": [],
   "source": [
    "whole.head()"
   ]
  },
  {
   "cell_type": "code",
   "execution_count": null,
   "metadata": {
    "collapsed": true
   },
   "outputs": [],
   "source": [
    "#各特徴量について加工をしていく\n",
    "\n",
    "#date_account_createdについて\n",
    "#年、月、日に分割してそれぞれを特徴量に\n",
    "whole[\"Year_account_created\"]=whole['date_account_created'].apply(lambda x:x[:4])\n",
    "whole[\"Month_account_created\"]=whole['date_account_created'].apply(lambda x:int(x[5:7]))\n",
    "whole[\"Day_account_created\"]=whole['date_account_created'].apply(lambda x:int(x[8:]))\n",
    "\n",
    "#timestamp_first_activeについて\n",
    "#年、月、日、時間に分割してそれぞれを特徴量に\n",
    "whole.timestamp_first_active=whole.timestamp_first_active.apply(str)\n",
    "whole[\"Year_first_active\"]=whole['timestamp_first_active'].apply(lambda x:x[:4])\n",
    "whole[\"Month_first_active\"]=whole['timestamp_first_active'].apply(lambda x:int(x[4:6]))\n",
    "whole[\"Day_first_active\"]=whole['timestamp_first_active'].apply(lambda x:int(x[6:8]))\n",
    "whole[\"Time_first_active\"]=whole['timestamp_first_active'].apply(lambda x:int(x[8:10]))"
   ]
  },
  {
   "cell_type": "code",
   "execution_count": null,
   "metadata": {
    "collapsed": true
   },
   "outputs": [],
   "source": [
    "#gender,signup_method,language~first_browserについて\n",
    "#カテゴリー変数なので数値に変換\n",
    "category_columns=[\"gender\",\"signup_method\",\"language\",\"affiliate_channel\",\"affiliate_provider\",\n",
    "                  \"first_affiliate_tracked\",\"signup_app\",\"first_device_type\",\"first_browser\"]\n",
    "whole = pd.get_dummies(whole, columns=category_columns)"
   ]
  },
  {
   "cell_type": "code",
   "execution_count": null,
   "metadata": {
    "collapsed": true
   },
   "outputs": [],
   "source": [
    "#ageの欠損を平均値で補完\n",
    "whole.age=whole.age.fillna(whole.age.mean())"
   ]
  },
  {
   "cell_type": "code",
   "execution_count": null,
   "metadata": {},
   "outputs": [],
   "source": [
    "whole.head()"
   ]
  },
  {
   "cell_type": "code",
   "execution_count": null,
   "metadata": {
    "collapsed": true,
    "scrolled": true
   },
   "outputs": [],
   "source": [
    "#trainとtestに再分割\n",
    "train=whole[whole.timestamp_first_active<=\"20140630235824\"]\n",
    "test=whole[whole.timestamp_first_active>\"20140630235824\"]\n",
    "test_id = test['id']"
   ]
  },
  {
   "cell_type": "code",
   "execution_count": null,
   "metadata": {
    "collapsed": true,
    "scrolled": true
   },
   "outputs": [],
   "source": [
    "#予測に用いるデータの作成\n",
    "X_train=train.drop([\"id\",\"date_account_created\",\"timestamp_first_active\",\n",
    "                    \"date_first_booking\",\"country_destination\"],axis=1)\n",
    "Y_train=train.country_destination"
   ]
  },
  {
   "cell_type": "code",
   "execution_count": null,
   "metadata": {
    "collapsed": true
   },
   "outputs": [],
   "source": [
    "X_test=test.drop([\"id\",\"date_account_created\",\"timestamp_first_active\",\n",
    "              \"date_first_booking\",\"country_destination\"],axis=1)"
   ]
  },
  {
   "cell_type": "code",
   "execution_count": null,
   "metadata": {},
   "outputs": [],
   "source": [
    "train.shape"
   ]
  },
  {
   "cell_type": "markdown",
   "metadata": {},
   "source": [
    "Countryの辞書を作成"
   ]
  },
  {
   "cell_type": "code",
   "execution_count": null,
   "metadata": {},
   "outputs": [],
   "source": [
    "country_unique=list(set(Y_train))\n",
    "country_dict={country_unique[i]:i for i in range(len(country_unique))}\n",
    "country_dict"
   ]
  },
  {
   "cell_type": "code",
   "execution_count": null,
   "metadata": {},
   "outputs": [],
   "source": [
    "Y_train_map=Y_train.map(country_dict)\n",
    "Y_train_map[:10]"
   ]
  },
  {
   "cell_type": "markdown",
   "metadata": {},
   "source": [
    "# NDCGの関数を定義する"
   ]
  },
  {
   "cell_type": "code",
   "execution_count": null,
   "metadata": {
    "collapsed": true
   },
   "outputs": [],
   "source": [
    "y_true = 3\n",
    "y_pred = np.array([5,3,2,1,0])"
   ]
  },
  {
   "cell_type": "code",
   "execution_count": null,
   "metadata": {},
   "outputs": [],
   "source": [
    "country_idx = sorted(list(country_dict.values()))\n",
    "country_idx = np.array(country_idx)\n",
    "\n",
    "def get_dcg(y_pred, y_true):\n",
    "    dcg5 = (2**(y_pred==y_true).astype(np.float) -1) /np.log2(np.arange(1,len(y_pred)+1)+1)\n",
    "    return sum(dcg5)\n",
    "\n",
    "def get_mean_dcg_score(proba_array, y_true):\n",
    "    dcg_scores = []\n",
    "    for i in range(len(proba_array)):\n",
    "        each = proba_array[i]\n",
    "        top5_idx = country_idx[np.argsort(each)][::-1][:5]  #Top5の国のインデックスを取得\n",
    "        tmp_dcg = get_dcg(y_pred=top5_idx, y_true=y_true[i])  #DCGのスコアを取得\n",
    "        dcg_scores.append(tmp_dcg)  #全てのレコードのDCGのスコアを保管\n",
    "    return np.mean(dcg_scores)"
   ]
  },
  {
   "cell_type": "markdown",
   "metadata": {},
   "source": [
    "テスト:  予測した順番が3,1,2,0 / 正解は3（つまり正しい結果を予測できている）"
   ]
  },
  {
   "cell_type": "code",
   "execution_count": null,
   "metadata": {},
   "outputs": [],
   "source": [
    "y_true = np.array([3])\n",
    "y_pred = np.array([3,1,2,0])\n",
    "    \n",
    "get_dcg(y_pred=y_pred, y_true=y_true)"
   ]
  },
  {
   "cell_type": "markdown",
   "metadata": {},
   "source": [
    "# クロスバリデーション"
   ]
  },
  {
   "cell_type": "markdown",
   "metadata": {},
   "source": [
    "NumPy Arrayにしておく"
   ]
  },
  {
   "cell_type": "code",
   "execution_count": null,
   "metadata": {
    "collapsed": true
   },
   "outputs": [],
   "source": [
    "X_train_ar = np.array(X_train)\n",
    "Y_train_map_ar = np.array(Y_train_map)\n",
    "X_test_ar = np.array(X_test)"
   ]
  },
  {
   "cell_type": "markdown",
   "metadata": {},
   "source": [
    "クロスバリデーションの実施"
   ]
  },
  {
   "cell_type": "code",
   "execution_count": null,
   "metadata": {
    "collapsed": true
   },
   "outputs": [],
   "source": [
    "k_fold=KFold(Y_train_map_ar.shape[0],5,shuffle=True)\n",
    "score_list=[]\n",
    "\n",
    "clf = RandomForestClassifier()\n",
    "\n",
    "for train_index, test_index in k_fold:\n",
    "    X1,X2 = X_train_ar[train_index], X_train_ar[test_index]\n",
    "    Y1,Y2 = Y_train_map_ar[train_index], Y_train_map_ar[test_index]\n",
    "    clf.fit(X1, Y1)\n",
    "    ypred = clf.predict_proba(X2)\n",
    "    ndcg_score = get_mean_dcg_score(ypred, Y2)\n",
    "    score_list.append(ndcg_score)"
   ]
  },
  {
   "cell_type": "code",
   "execution_count": null,
   "metadata": {
    "collapsed": true
   },
   "outputs": [],
   "source": [
    "print(\"Mean: \", np.mean(score_list))\n",
    "print(\"SD: \", np.std(score_list))"
   ]
  },
  {
   "cell_type": "markdown",
   "metadata": {},
   "source": [
    "# 最終モデルの作成"
   ]
  },
  {
   "cell_type": "code",
   "execution_count": null,
   "metadata": {
    "collapsed": true
   },
   "outputs": [],
   "source": [
    "clf = RandomForestClassifier()\n",
    "clf.fit(X_train_ar, Y_train_map_ar)\n",
    "ypred_proba = clf.predict_proba(X_test_ar)"
   ]
  },
  {
   "cell_type": "markdown",
   "metadata": {},
   "source": [
    "# Submission fileを書き出す"
   ]
  },
  {
   "cell_type": "code",
   "execution_count": null,
   "metadata": {
    "collapsed": true
   },
   "outputs": [],
   "source": [
    "# country_dictのKeyとValueを入れ替えた形で辞書を作る\n",
    "country_dict_reverse={v:k for k,v in country_dict.items()}\n",
    "country_dict_reverse"
   ]
  },
  {
   "cell_type": "code",
   "execution_count": null,
   "metadata": {
    "collapsed": true
   },
   "outputs": [],
   "source": [
    "#Submission用んpデータを作成\n",
    "submission_data = []\n",
    "for user_id, proba_each in zip(test_id, ypred_proba):\n",
    "    top5_idx = country_idx[np.argsort(proba_each)][::-1][:5]  #Top5の国のインデックスを取得\n",
    "    top5_country = [country_dict_re[idx] for idx in top5_idx]\n",
    "    for each_country in top5_country:\n",
    "        tmp_ = [user_id, each_country]\n",
    "        submission_data.append(tmp_)"
   ]
  },
  {
   "cell_type": "code",
   "execution_count": null,
   "metadata": {
    "collapsed": true
   },
   "outputs": [],
   "source": [
    "#データフレームに変換\n",
    "submission_df = pd.DataFrame(submission_data, columns=['id', 'country'])"
   ]
  },
  {
   "cell_type": "code",
   "execution_count": null,
   "metadata": {
    "collapsed": true
   },
   "outputs": [],
   "source": [
    "print(submission_df.shape)\n",
    "submission_df.head(10)"
   ]
  },
  {
   "cell_type": "code",
   "execution_count": null,
   "metadata": {
    "collapsed": true
   },
   "outputs": [],
   "source": [
    "#csvファイルに書き出す\n",
    "submission_df.to_csv(\"Airbnb_benchmark_submission.csv\",index=False)"
   ]
  }
 ],
 "metadata": {
  "anaconda-cloud": {},
  "kernelspec": {
   "display_name": "Python 3",
   "language": "python",
   "name": "python3"
  },
  "language_info": {
   "codemirror_mode": {
    "name": "ipython",
    "version": 3
   },
   "file_extension": ".py",
   "mimetype": "text/x-python",
   "name": "python",
   "nbconvert_exporter": "python",
   "pygments_lexer": "ipython3",
   "version": "3.6.3"
  }
 },
 "nbformat": 4,
 "nbformat_minor": 1
}
